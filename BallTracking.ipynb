{
 "cells": [
  {
   "cell_type": "code",
   "execution_count": 1,
   "metadata": {},
   "outputs": [
    {
     "name": "stdout",
     "output_type": "stream",
     "text": [
      "The history saving thread hit an unexpected error (DatabaseError('database disk image is malformed')).History will not be written to the database.\n"
     ]
    }
   ],
   "source": [
    "import math \n",
    "import numpy as np \n",
    "import matplotlib.pyplot as plt"
   ]
  },
  {
   "cell_type": "markdown",
   "metadata": {},
   "source": [
    "Simulate ball motion, find root where y=0 and snipe tmax to be time the ball hits the ground, recreating x and y accordingly."
   ]
  },
  {
   "cell_type": "code",
   "execution_count": 2,
   "metadata": {},
   "outputs": [],
   "source": [
    "def newtonRoot(f, fp, x0, accuracy=1.0e-6, max_steps = 200000, root_debug=False):\n",
    "    f0 = f(x0)\n",
    "    fp0 = fp(x0)\n",
    "    if fp0 == 0.0:\n",
    "        raise Exception(\" root_tangent df/dx = 0 algorithm fails\")\n",
    "    dx = -f0/fp0\n",
    "    step = 0\n",
    "    if root_debug:\n",
    "        root_print_header(\"Tangent Search\", accuracy)\n",
    "        root_print_step(step,x0,dx,f0)\n",
    "    if f0 == 0.0:\n",
    "        return x0\n",
    "    while True:\n",
    "        fp0 = fp(x0)\n",
    "        if fp0 == 0.0:\n",
    "            raise Exception(\" root_tangent df/dx = 0 algorithm fails\")\n",
    "        dx = -f0/fp0\n",
    "        x0 += dx\n",
    "        f0 = f(x0)\n",
    "        if abs(dx) <= accuracy or f0 == 0.0:\n",
    "            return x0\n",
    "        step += 1\n",
    "        if step > max_steps:\n",
    "            root_max_steps(\"root_tangent\", max_steps)\n",
    "        if root_debug:\n",
    "            root_print_step(step,x0,dx,f0)\n",
    "    return x0"
   ]
  },
  {
   "cell_type": "code",
   "execution_count": 3,
   "metadata": {},
   "outputs": [],
   "source": [
    "def Cord(v,a,t):\n",
    "    return v*t+0.5*a*t**2"
   ]
  },
  {
   "cell_type": "code",
   "execution_count": 4,
   "metadata": {},
   "outputs": [],
   "source": [
    "tmax = 130\n",
    "ax = 0\n",
    "ay = -10\n",
    "vx0 = 4\n",
    "vy0 = 70\n",
    "x0 = 0\n",
    "y0 = 0\n",
    "\n",
    "t = np.arange(tmax)\n",
    "x = Cord(vx0,ax,t)\n",
    "y = Cord(vy0,ay,t)\n",
    "\n",
    "def CordRoot(t):\n",
    "    return vy0*t+0.5*ay*t**2\n",
    "def CordRootDeriv(t):\n",
    "    return vy0+ay*t\n",
    "\n",
    "endPoint = newtonRoot(CordRoot,CordRootDeriv,tmax*.1,tmax)"
   ]
  },
  {
   "cell_type": "code",
   "execution_count": 5,
   "metadata": {},
   "outputs": [
    {
     "data": {
      "text/plain": [
       "[<matplotlib.lines.Line2D at 0x7fb52be7cc10>]"
      ]
     },
     "execution_count": 5,
     "metadata": {},
     "output_type": "execute_result"
    },
    {
     "data": {
      "image/png": "[encoded data removed]",
      "text/plain": [
       "<Figure size 432x288 with 1 Axes>"
      ]
     },
     "metadata": {
      "needs_background": "light"
     },
     "output_type": "display_data"
    }
   ],
   "source": [
    "plt.plot(x,y)\n",
    "plt.plot(x[round(endPoint)+1],0, 'r*')"
   ]
  },
  {
   "cell_type": "code",
   "execution_count": 19,
   "metadata": {},
   "outputs": [
    {
     "data": {
      "text/plain": [
       "[<matplotlib.lines.Line2D at 0x7fb509d980d0>]"
      ]
     },
     "execution_count": 19,
     "metadata": {},
     "output_type": "execute_result"
    },
    {
     "data": {
      "image/png": "[encoded data removed]",
      "text/plain": [
       "<Figure size 432x288 with 1 Axes>"
      ]
     },
     "metadata": {
      "needs_background": "light"
     },
     "output_type": "display_data"
    }
   ],
   "source": [
    "tmax = math.ceil(endPoint)\n",
    "t = np.arange(tmax)\n",
    "x = Cord(vx0,ax,t)\n",
    "y = Cord(vy0,ay,t)\n",
    "plt.plot(x,y)"
   ]
  },
  {
   "cell_type": "markdown",
   "metadata": {},
   "source": [
    "Create Simulation Matrix of Ball Position"
   ]
  },
  {
   "cell_type": "code",
   "execution_count": 64,
   "metadata": {},
   "outputs": [],
   "source": [
    "MATRIX = np.zeros((math.ceil(x[tmax-1])+1,math.ceil(y[round(tmax/2)])+10,tmax))"
   ]
  },
  {
   "cell_type": "code",
   "execution_count": 76,
   "metadata": {},
   "outputs": [],
   "source": [
    "for i in range(tmax):\n",
    "    MATRIX[int(x[i]),int(y[i]),i] = 1"
   ]
  },
  {
   "cell_type": "code",
   "execution_count": 77,
   "metadata": {},
   "outputs": [
    {
     "name": "stdout",
     "output_type": "stream",
     "text": [
      "(array([ 0,  4,  8, 12, 16, 20, 24, 28, 32, 36, 40, 44, 48, 52, 56]), array([  0,  65, 120, 165, 200, 225, 240, 245, 240, 225, 200, 165, 120,\n",
      "        65,   0]), array([ 0,  1,  2,  3,  4,  5,  6,  7,  8,  9, 10, 11, 12, 13, 14]))\n"
     ]
    }
   ],
   "source": [
    "print(np.nonzero(MATRIX))"
   ]
  },
  {
   "cell_type": "code",
   "execution_count": null,
   "metadata": {},
   "outputs": [],
   "source": []
  },
  {
   "cell_type": "code",
   "execution_count": null,
   "metadata": {},
   "outputs": [],
   "source": []
  }
 ],
 "metadata": {
  "kernelspec": {
   "display_name": "Python 3",
   "language": "python",
   "name": "python3"
  },
  "language_info": {
   "codemirror_mode": {
    "name": "ipython",
    "version": 3
   },
   "file_extension": ".py",
   "mimetype": "text/x-python",
   "name": "python",
   "nbconvert_exporter": "python",
   "pygments_lexer": "ipython3",
   "version": "3.7.5"
  }
 },
 "nbformat": 4,
 "nbformat_minor": 4
}
